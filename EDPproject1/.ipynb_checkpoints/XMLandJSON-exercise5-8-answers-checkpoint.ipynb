{
 "cells": [
  {
   "cell_type": "markdown",
   "metadata": {},
   "source": [
    "### Using lxml to read XML data\n",
    "\n"
   ]
  },
  {
   "cell_type": "markdown",
   "metadata": {},
   "source": [
    "We will use the *lxml* python package.   *lxml* provides us with various methods of dealing with XML data known as APIs (Application Programming Interfaces). The first way is the ElementTree API, which enables us to easily access XML data in a tree-like structure.\n",
    "\n",
    "As with any other Python packages, you need to issue an import command to load a package:"
   ]
  },
  {
   "cell_type": "code",
   "execution_count": 1,
   "metadata": {
    "collapsed": true
   },
   "outputs": [],
   "source": [
    "from lxml import etree\n"
   ]
  },
  {
   "cell_type": "markdown",
   "metadata": {},
   "source": [
    "In order to load an XML file and to represent it as a tree in computer memory, you need to parse the XML file. The etree.parse() function parses the XML file that is passed in as a parameter.  We first load in the file that you created in question 2. "
   ]
  },
  {
   "cell_type": "code",
   "execution_count": 2,
   "metadata": {
    "collapsed": true
   },
   "outputs": [],
   "source": [
    "xmltree = etree.parse(\"royal2.xml\")"
   ]
  },
  {
   "cell_type": "markdown",
   "metadata": {
    "collapsed": true
   },
   "source": [
    "The *parse()* function returns an XML *ElementTree* object, which represents the whole XML tree. Each node in the tree is translated into an *Element* object .\n",
    "\n",
    "Use *getroot()* function of an *ElementTree* object to get the root element of the XML tree. You can print out the XML tag of an element using *tag* property."
   ]
  },
  {
   "cell_type": "code",
   "execution_count": 3,
   "metadata": {},
   "outputs": [
    {
     "name": "stdout",
     "output_type": "stream",
     "text": [
      "queen\n"
     ]
    }
   ],
   "source": [
    "root = xmltree.getroot()\n",
    "print (root.tag)"
   ]
  },
  {
   "cell_type": "markdown",
   "metadata": {},
   "source": [
    "### Traversing the XML Tree"
   ]
  },
  {
   "cell_type": "markdown",
   "metadata": {},
   "source": [
    "The following sections describe various methods for traversing the XML tree\n",
    "\n",
    "To obtain a list all of the children of an element, you can iterate over the XML *Element* itself:"
   ]
  },
  {
   "cell_type": "code",
   "execution_count": 4,
   "metadata": {},
   "outputs": [
    {
     "name": "stdout",
     "output_type": "stream",
     "text": [
      "prince\n",
      "princess\n",
      "prince\n",
      "prince\n"
     ]
    }
   ],
   "source": [
    "for e in root:\n",
    "   print (e.tag)"
   ]
  },
  {
   "cell_type": "markdown",
   "metadata": {},
   "source": [
    "You can use indexing to access the children of an element:\n"
   ]
  },
  {
   "cell_type": "code",
   "execution_count": 5,
   "metadata": {},
   "outputs": [
    {
     "name": "stdout",
     "output_type": "stream",
     "text": [
      "Charles, Prince of Wales\n"
     ]
    }
   ],
   "source": [
    "oldest_prince = root[0]\n",
    "#print(type(oldest_prince))\n",
    "print (oldest_prince.get(\"title\"))"
   ]
  },
  {
   "cell_type": "markdown",
   "metadata": {},
   "source": [
    "The *find()* method returns only the first matching child.\n",
    "\n"
   ]
  },
  {
   "cell_type": "code",
   "execution_count": 6,
   "metadata": {},
   "outputs": [
    {
     "name": "stdout",
     "output_type": "stream",
     "text": [
      "Charles, Prince of Wales\n"
     ]
    }
   ],
   "source": [
    "the_first_child_with_prince_tag = root.find(\"prince\")\n",
    "print (the_first_child_with_prince_tag.get('title'))"
   ]
  },
  {
   "cell_type": "markdown",
   "metadata": {},
   "source": [
    "The *iterchildren()* function allows you to iterate over children with a particular tag:\n",
    "\n"
   ]
  },
  {
   "cell_type": "code",
   "execution_count": 7,
   "metadata": {
    "scrolled": true
   },
   "outputs": [
    {
     "name": "stdout",
     "output_type": "stream",
     "text": [
      "Charles, Prince of Wales\n",
      "Anne, Princess Royal\n",
      "Andrew, Duke of York\n",
      "Edward, Earl of Wessex\n"
     ]
    }
   ],
   "source": [
    "for child in root:#.iterchildren(tag=\"prince\"):\n",
    "    print (child.get('title'))"
   ]
  },
  {
   "cell_type": "markdown",
   "metadata": {},
   "source": [
    "There is also a *iterdescendants()* function to iterate all descendants of a particular node."
   ]
  },
  {
   "cell_type": "markdown",
   "metadata": {},
   "source": [
    "###### Exercise 5a)"
   ]
  },
  {
   "cell_type": "markdown",
   "metadata": {},
   "source": [
    "Using the *royal2.xml*:\n",
    "\n",
    "i) Write Python code to get the title property of queen's grandsons.\n",
    "\n",
    "ii) Write Python code to get the full title of the only princess in the family tree."
   ]
  },
  {
   "cell_type": "code",
   "execution_count": 8,
   "metadata": {},
   "outputs": [
    {
     "name": "stdout",
     "output_type": "stream",
     "text": [
      "Prince William of Wales\n",
      "Prince Henry of Wales\n",
      "Anne, Princess Royal\n"
     ]
    }
   ],
   "source": [
    "#insert answer to 5a) here\n",
    "\n",
    "\n",
    "from lxml import etree # import the library\n",
    "xmltree = etree.parse(\"royal2.xml\")\n",
    "root = xmltree.getroot()\n",
    "# Write a Python code to get the title property of queen's grandsons.\n",
    "for child in root: # iterate over prince and princess under queen\n",
    "    for grandson in child.iterchildren(tag=\"prince\"):\n",
    "        print (grandson.get('title'))\n",
    "\n",
    "        \n",
    "        # Write a Python code to get the full title of the only princess in the family tree.\n",
    "the_only_princess = root.find(\"princess\")\n",
    "print (the_only_princess.get('title'))"
   ]
  },
  {
   "cell_type": "markdown",
   "metadata": {},
   "source": [
    "### Accessing XML attributes\n"
   ]
  },
  {
   "cell_type": "markdown",
   "metadata": {},
   "source": [
    "You can access the XML attributes of an element using the *get()* method\n",
    "or *attrib* properties of an element.\n",
    "\n"
   ]
  },
  {
   "cell_type": "code",
   "execution_count": 9,
   "metadata": {},
   "outputs": [
    {
     "name": "stdout",
     "output_type": "stream",
     "text": [
      "{'title': 'Queen Elizabeth II', 'marriedTo': 'Philip, Duke of Edinburgh'}\n",
      "Queen Elizabeth II\n"
     ]
    }
   ],
   "source": [
    "print (root.attrib)\n",
    "print (root.get(\"title\"))\n"
   ]
  },
  {
   "cell_type": "markdown",
   "metadata": {},
   "source": [
    "### Accessing XML text\n"
   ]
  },
  {
   "cell_type": "raw",
   "metadata": {},
   "source": [
    "Let's now use another sample of XML data. Consider the file book.xml\n",
    "\n",
    "<?xml version=\"1.0\" encoding=\"utf-8\"?>\n",
    "<book id=\"book001\">\n",
    "  <author>Salinger, J. D.</author>\n",
    "  <title>The Catcher in the Rye</title>\n",
    "  <language>English</language>\n",
    "  <publish_date>1951-07-16</publish_date>\n",
    "  <publisher>Little, Brown and Company</publisher>\n",
    "  <isbn>0-316-76953-3</isbn>\n",
    "  <description>A story about a few important days in the life of Holden Caulfield</description>\n",
    "</book>\n",
    "\n"
   ]
  },
  {
   "cell_type": "markdown",
   "metadata": {},
   "source": [
    "This XML looks different to the *royal2.xml* in that it has some\n",
    "text content within each element. To access the text content of an\n",
    "element (text between start and end tag), use *text* properties of that\n",
    "element"
   ]
  },
  {
   "cell_type": "code",
   "execution_count": 10,
   "metadata": {},
   "outputs": [
    {
     "name": "stdout",
     "output_type": "stream",
     "text": [
      "author: Salinger, J. D.\n",
      "title: The Catcher in the Rye\n",
      "language: English\n",
      "publish_date: 1951-07-16\n",
      "publisher: Little, Brown and Company\n",
      "isbn: 0-316-76953-3\n",
      "description: A story about a few important days in the life of Holden Caulfield\n"
     ]
    }
   ],
   "source": [
    "from lxml import etree\n",
    "xmltree = etree.parse('book.xml')\n",
    "root = xmltree.getroot()\n",
    "for child in root:\n",
    "    print (child.tag + \": \" + child.text)"
   ]
  },
  {
   "cell_type": "markdown",
   "metadata": {},
   "source": [
    "### Building XML data\n",
    "\n"
   ]
  },
  {
   "cell_type": "markdown",
   "metadata": {},
   "source": [
    "Let's go back to the *book.xml* example above. As usual, use *lxml* library to parse the XML and get the root of the tree:\n",
    "\n"
   ]
  },
  {
   "cell_type": "code",
   "execution_count": 11,
   "metadata": {
    "collapsed": true
   },
   "outputs": [],
   "source": [
    "from lxml import etree\n",
    "xmltree = etree.parse('book.xml')\n",
    "root = xmltree.getroot()"
   ]
  },
  {
   "cell_type": "markdown",
   "metadata": {},
   "source": [
    "To create a new XML element, use *etree.Element()* function:\n",
    "\n"
   ]
  },
  {
   "cell_type": "code",
   "execution_count": 12,
   "metadata": {},
   "outputs": [
    {
     "name": "stdout",
     "output_type": "stream",
     "text": [
      "<genre>Novel</genre>\n",
      "\n"
     ]
    }
   ],
   "source": [
    "new_element = etree.Element('genre')\n",
    "new_element.text = 'Novel'\n",
    "root.append(new_element)\n",
    "print(etree.tostring(root[-1],pretty_print=True,encoding='unicode'))   # the last element, the newly appended element\n"
   ]
  },
  {
   "cell_type": "markdown",
   "metadata": {},
   "source": [
    "Tips: You can create a totally a new XML tree by constructing the root element:"
   ]
  },
  {
   "cell_type": "code",
   "execution_count": 13,
   "metadata": {
    "collapsed": true
   },
   "outputs": [],
   "source": [
    "root = etree.Element('book')"
   ]
  },
  {
   "cell_type": "markdown",
   "metadata": {},
   "source": [
    "You can also create new element using *SubElement()* function:\n"
   ]
  },
  {
   "cell_type": "code",
   "execution_count": 14,
   "metadata": {
    "scrolled": true
   },
   "outputs": [
    {
     "name": "stdout",
     "output_type": "stream",
     "text": [
      "price\n"
     ]
    }
   ],
   "source": [
    "new_element = etree.SubElement(root, \"price\")\n",
    "new_element.text = '23.95'\n",
    "for e in root: # check whether the new element is added\n",
    "    print(e.tag)"
   ]
  },
  {
   "cell_type": "markdown",
   "metadata": {},
   "source": [
    "Use *insert()* to insert a new element at a specific location:"
   ]
  },
  {
   "cell_type": "code",
   "execution_count": 15,
   "metadata": {},
   "outputs": [
    {
     "name": "stdout",
     "output_type": "stream",
     "text": [
      "<country>United States</country>\n",
      "\n"
     ]
    }
   ],
   "source": [
    "root.insert(1,etree.Element(\"country\"))\n",
    "root[1].text = \"United States\"\n",
    "print(etree.tostring(root[1],pretty_print=True,encoding='unicode'))"
   ]
  },
  {
   "cell_type": "markdown",
   "metadata": {},
   "source": [
    "### Serialising XML data (printing as web content or writing into a file)\n"
   ]
  },
  {
   "cell_type": "markdown",
   "metadata": {},
   "source": [
    "You can get the whole XML string by calling *etree.tostring()* with the root of the tree as the first parameter:\n",
    "\n"
   ]
  },
  {
   "cell_type": "code",
   "execution_count": 16,
   "metadata": {},
   "outputs": [
    {
     "name": "stdout",
     "output_type": "stream",
     "text": [
      "price\n",
      "country\n"
     ]
    }
   ],
   "source": [
    "output = etree.tostring(root, pretty_print=True, encoding=\"UTF-8\")\n",
    "for e in root:\n",
    "   print(e.tag)"
   ]
  },
  {
   "cell_type": "code",
   "execution_count": 17,
   "metadata": {},
   "outputs": [
    {
     "data": {
      "text/plain": [
       "73"
      ]
     },
     "execution_count": 17,
     "metadata": {},
     "output_type": "execute_result"
    }
   ],
   "source": [
    "open('output.xml','wb').write(output)"
   ]
  },
  {
   "cell_type": "markdown",
   "metadata": {
    "collapsed": true
   },
   "source": [
    "## Exercise 5b)"
   ]
  },
  {
   "cell_type": "markdown",
   "metadata": {},
   "source": [
    "Write Python code to load in the file \"book.xml\", change the ISBN to \"Unknown\" and then write out the file to \"book-new.xml\""
   ]
  },
  {
   "cell_type": "code",
   "execution_count": 18,
   "metadata": {},
   "outputs": [
    {
     "data": {
      "text/plain": [
       "346"
      ]
     },
     "execution_count": 18,
     "metadata": {},
     "output_type": "execute_result"
    }
   ],
   "source": [
    "#insert answer to 5b) here\n",
    "\n",
    "xmltree = etree.parse(\"book.xml\")\n",
    "root = xmltree.getroot()\n",
    "root.find(\"isbn\").text='Unknown'\n",
    "output = etree.tostring(root, pretty_print=True,encoding=\"UTF-8\")\n",
    "open('book-new.xml','wb').write(output)"
   ]
  },
  {
   "cell_type": "markdown",
   "metadata": {},
   "source": [
    "This is the end of the notebook.  Now return to question 6) in the exercises sheet."
   ]
  },
  {
   "cell_type": "markdown",
   "metadata": {},
   "source": [
    "## Exercise 7\n",
    "\n",
    "In your JSON solution, add Spanish and German as two extra languages represented\n",
    "as an array. Save this \f",
    "le as book2.json. Validate it on JSONLint.\n",
    "Now modify the publish date parameter. Make this an array of two objects that have\n",
    "properties of edition (\f",
    "rst, second) and date (1951-07-16,1979-01-01) respectively. Save\n",
    "this \f",
    "le as book3.json.\n",
    "                                               "
   ]
  },
  {
   "cell_type": "code",
   "execution_count": 19,
   "metadata": {
    "collapsed": true
   },
   "outputs": [],
   "source": [
    "str_json = '''\n",
    "{\n",
    "\"id\": \"book001\",\n",
    "\"author\": \"Salinger, J. D.\",\n",
    "\"title\": \"The Catcher in the Rye\",\n",
    "\"price\": \"44.95\",\n",
    "\"language\": \"English\",\n",
    "\"publish_date\": \"1951-07-16\",\n",
    "\"publisher\": \"Little, Brown and Company\",\n",
    "\"isbn\": \"0-316-76953-3\",\n",
    "\"description\": \"A story about a few important days in the life of Holden Caulfield\"\n",
    "}\n",
    "'''"
   ]
  },
  {
   "cell_type": "code",
   "execution_count": 20,
   "metadata": {},
   "outputs": [
    {
     "name": "stdout",
     "output_type": "stream",
     "text": [
      "<class 'dict'>\n",
      "44.95\n"
     ]
    }
   ],
   "source": [
    "import json\n",
    "Data = json.loads(str_json)\n",
    "print(type(Data))\n",
    "print(Data[\"price\"])\n",
    "\n",
    "# modify any attribute\n",
    "Data[\"isbn\"] = \"Unknown\"\n",
    "\n",
    "# save Json file\n",
    "with open('book_test.json', 'w') as f:\n",
    "    json.dump(Data, f,indent = 2)\n",
    "\n",
    "# load Json file\n",
    "with open('book_test.json') as f:\n",
    "    Data = json.load(f)\n",
    "    "
   ]
  },
  {
   "cell_type": "code",
   "execution_count": 21,
   "metadata": {
    "collapsed": true
   },
   "outputs": [],
   "source": [
    "#insert answer to 6 here\n",
    "\n",
    "Data[\"language\"] = [\"English\",\"Spanish\",\"German\"]\n",
    "with open('book2.json', 'w') as f:\n",
    "    json.dump(Data, f,indent = 2)\n",
    "    \n",
    "    "
   ]
  },
  {
   "cell_type": "code",
   "execution_count": 22,
   "metadata": {
    "collapsed": true
   },
   "outputs": [],
   "source": [
    "with open('book2.json') as f:\n",
    "    Data = json.load(f)"
   ]
  },
  {
   "cell_type": "code",
   "execution_count": 23,
   "metadata": {
    "scrolled": true
   },
   "outputs": [
    {
     "data": {
      "text/plain": [
       "{'id': 'book001',\n",
       " 'author': 'Salinger, J. D.',\n",
       " 'title': 'The Catcher in the Rye',\n",
       " 'price': '44.95',\n",
       " 'language': ['English', 'Spanish', 'German'],\n",
       " 'publish_date': '1951-07-16',\n",
       " 'publisher': 'Little, Brown and Company',\n",
       " 'isbn': 'Unknown',\n",
       " 'description': 'A story about a few important days in the life of Holden Caulfield'}"
      ]
     },
     "execution_count": 23,
     "metadata": {},
     "output_type": "execute_result"
    }
   ],
   "source": [
    "Data"
   ]
  },
  {
   "cell_type": "code",
   "execution_count": 24,
   "metadata": {
    "collapsed": true
   },
   "outputs": [],
   "source": [
    "#insert answer to 7b here\n",
    "\n",
    "obj1= {\"edition\":\"first\",\"date\":\"1951-07-16\"}\n",
    "obj2= {\"edition\":\"second\",\"date\":\"1979-01-01\"}\n",
    "Data[\"publish_date\"]=[obj1,obj2]"
   ]
  },
  {
   "cell_type": "code",
   "execution_count": 2,
   "metadata": {},
   "outputs": [
    {
     "ename": "NameError",
     "evalue": "name 'json' is not defined",
     "output_type": "error",
     "traceback": [
      "\u001b[1;31m---------------------------------------------------------------------------\u001b[0m",
      "\u001b[1;31mNameError\u001b[0m                                 Traceback (most recent call last)",
      "\u001b[1;32m<ipython-input-2-7962e7c4664e>\u001b[0m in \u001b[0;36m<module>\u001b[1;34m\u001b[0m\n\u001b[0;32m      1\u001b[0m \u001b[1;32mwith\u001b[0m \u001b[0mopen\u001b[0m\u001b[1;33m(\u001b[0m\u001b[1;34m'book3.json'\u001b[0m\u001b[1;33m,\u001b[0m \u001b[1;34m'w'\u001b[0m\u001b[1;33m)\u001b[0m \u001b[1;32mas\u001b[0m \u001b[0mf\u001b[0m\u001b[1;33m:\u001b[0m\u001b[1;33m\u001b[0m\u001b[1;33m\u001b[0m\u001b[0m\n\u001b[1;32m----> 2\u001b[1;33m     \u001b[0mjson\u001b[0m\u001b[1;33m.\u001b[0m\u001b[0mdump\u001b[0m\u001b[1;33m(\u001b[0m\u001b[0mData\u001b[0m\u001b[1;33m,\u001b[0m \u001b[0mf\u001b[0m\u001b[1;33m,\u001b[0m\u001b[0mindent\u001b[0m \u001b[1;33m=\u001b[0m \u001b[1;36m2\u001b[0m\u001b[1;33m)\u001b[0m\u001b[1;33m\u001b[0m\u001b[1;33m\u001b[0m\u001b[0m\n\u001b[0m\u001b[0;32m      3\u001b[0m \u001b[1;32mwith\u001b[0m \u001b[0mopen\u001b[0m\u001b[1;33m(\u001b[0m\u001b[1;34m'book3.json'\u001b[0m\u001b[1;33m)\u001b[0m \u001b[1;32mas\u001b[0m \u001b[0mf\u001b[0m\u001b[1;33m:\u001b[0m\u001b[1;33m\u001b[0m\u001b[1;33m\u001b[0m\u001b[0m\n\u001b[0;32m      4\u001b[0m     \u001b[0mData\u001b[0m \u001b[1;33m=\u001b[0m \u001b[0mjson\u001b[0m\u001b[1;33m.\u001b[0m\u001b[0mload\u001b[0m\u001b[1;33m(\u001b[0m\u001b[0mf\u001b[0m\u001b[1;33m)\u001b[0m\u001b[1;33m\u001b[0m\u001b[1;33m\u001b[0m\u001b[0m\n",
      "\u001b[1;31mNameError\u001b[0m: name 'json' is not defined"
     ]
    }
   ],
   "source": [
    "with open('book3.json', 'w') as f:\n",
    "    json.dump(Data, f,indent = 2)\n",
    "with open('book3.json') as f:\n",
    "    Data = json.load(f)"
   ]
  },
  {
   "cell_type": "code",
   "execution_count": 1,
   "metadata": {},
   "outputs": [
    {
     "ename": "NameError",
     "evalue": "name 'Data' is not defined",
     "output_type": "error",
     "traceback": [
      "\u001b[1;31m---------------------------------------------------------------------------\u001b[0m",
      "\u001b[1;31mNameError\u001b[0m                                 Traceback (most recent call last)",
      "\u001b[1;32m<ipython-input-1-ce45a8073829>\u001b[0m in \u001b[0;36m<module>\u001b[1;34m\u001b[0m\n\u001b[1;32m----> 1\u001b[1;33m \u001b[0mData\u001b[0m\u001b[1;33m[\u001b[0m\u001b[1;34m'id'\u001b[0m\u001b[1;33m]\u001b[0m\u001b[1;33m\u001b[0m\u001b[1;33m\u001b[0m\u001b[0m\n\u001b[0m",
      "\u001b[1;31mNameError\u001b[0m: name 'Data' is not defined"
     ]
    }
   ],
   "source": [
    "Data['id']"
   ]
  },
  {
   "cell_type": "code",
   "execution_count": null,
   "metadata": {
    "collapsed": true
   },
   "outputs": [],
   "source": []
  }
 ],
 "metadata": {
  "kernelspec": {
   "display_name": "Python 3",
   "language": "python",
   "name": "python3"
  },
  "language_info": {
   "codemirror_mode": {
    "name": "ipython",
    "version": 3
   },
   "file_extension": ".py",
   "mimetype": "text/x-python",
   "name": "python",
   "nbconvert_exporter": "python",
   "pygments_lexer": "ipython3",
   "version": "3.7.3"
  }
 },
 "nbformat": 4,
 "nbformat_minor": 1
}
