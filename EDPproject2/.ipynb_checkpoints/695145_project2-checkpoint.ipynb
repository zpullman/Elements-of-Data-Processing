{
 "cells": [
  {
   "cell_type": "code",
   "execution_count": 1,
   "metadata": {},
   "outputs": [
    {
     "name": "stdout",
     "output_type": "stream",
     "text": [
      "Requirement already satisfied: textdistance in c:\\users\\61422\\anaconda3\\lib\\site-packages (4.1.4)\n"
     ]
    }
   ],
   "source": [
    "#import ....\n",
    "import pandas as pd\n",
    "import numpy as np\n",
    "import matplotlib.pyplot as plt\n",
    "import seaborn as sns\n",
    "\n",
    "!pip install textdistance\n",
    "import textdistance as td\n"
   ]
  },
  {
   "cell_type": "code",
   "execution_count": 2,
   "metadata": {},
   "outputs": [],
   "source": [
    "#Question 1 - Naive Data Linkage\n",
    "#load in the data\n",
    "amazon_s=pd.read_csv('amazon_small.csv',encoding = 'ISO-8859-1')\n",
    "google_s=pd.read_csv('google_small.csv',encoding = 'ISO-8859-1')\n",
    "truth_s = pd.read_csv('amazon_google_truth_small.csv',encoding = 'ISO-8859-1')\n",
    "\n",
    "amazon=pd.read_csv('amazon.csv',encoding = 'ISO-8859-1')\n",
    "google=pd.read_csv('google.csv',encoding = 'ISO-8859-1')\n",
    "truth = pd.read_csv('amazon_google_truth.csv',encoding = 'ISO-8859-1')\n",
    "\n",
    "sorted_amazon = amazon_s.sort_values(\"idAmazon\")\n",
    "sorted_truth = truth_s.sort_values(\"idAmazon\")\n"
   ]
  },
  {
   "cell_type": "code",
   "execution_count": 3,
   "metadata": {},
   "outputs": [],
   "source": [
    "# make a list of best matches, do this by looping over each row of amazon_small and compare with google_small counter part\n",
    "# manufacturer for google_small is mostly Nan so we omit here\n",
    "match_list = []\n",
    "score_list = []\n",
    "count = 0\n",
    "threshold = 0.2\n",
    "for i in range(0, sorted_amazon.shape[0]):\n",
    "    bestmatch = threshold\n",
    "    bestmatchID = \"\"\n",
    "    for j in range(0, google_s.shape[0]):\n",
    "        score = td.jaccard(sorted_amazon.loc[i,\"title\"].split() , google_s.loc[j,\"name\"].split())\n",
    "        count += 1\n",
    "        if(score > bestmatch):\n",
    "            bestmatch = score\n",
    "            bestmatchID = google_s.loc[j,\"idGoogleBase\"]\n",
    "        \n",
    "    match_list.append(bestmatchID)\n",
    "    score_list.append(bestmatch)"
   ]
  },
  {
   "cell_type": "code",
   "execution_count": 4,
   "metadata": {},
   "outputs": [
    {
     "name": "stdout",
     "output_type": "stream",
     "text": [
      "matches count:  130\n",
      "number of true positives:  114\n",
      "0.912\n",
      "0.912\n"
     ]
    },
    {
     "data": {
      "text/html": [
       "<div>\n",
       "<style scoped>\n",
       "    .dataframe tbody tr th:only-of-type {\n",
       "        vertical-align: middle;\n",
       "    }\n",
       "\n",
       "    .dataframe tbody tr th {\n",
       "        vertical-align: top;\n",
       "    }\n",
       "\n",
       "    .dataframe thead th {\n",
       "        text-align: right;\n",
       "    }\n",
       "</style>\n",
       "<table border=\"1\" class=\"dataframe\">\n",
       "  <thead>\n",
       "    <tr style=\"text-align: right;\">\n",
       "      <th></th>\n",
       "      <th>idAmazon</th>\n",
       "      <th>title</th>\n",
       "      <th>description</th>\n",
       "      <th>manufacturer</th>\n",
       "      <th>price</th>\n",
       "      <th>idGoogleBase</th>\n",
       "      <th>Score</th>\n",
       "    </tr>\n",
       "  </thead>\n",
       "  <tbody>\n",
       "    <tr>\n",
       "      <th>65</th>\n",
       "      <td>1931102953</td>\n",
       "      <td>instant immersion american sign language win/mac</td>\n",
       "      <td>instant immersion asl teaches beginners americ...</td>\n",
       "      <td>topics entertainment</td>\n",
       "      <td>9.99</td>\n",
       "      <td>http://www.google.com/base/feeds/snippets/5505...</td>\n",
       "      <td>0.375000</td>\n",
       "    </tr>\n",
       "    <tr>\n",
       "      <th>107</th>\n",
       "      <td>b00002s6sc</td>\n",
       "      <td>punch 5 in 1 home design</td>\n",
       "      <td>5 in 1 home design is a fully integrated 3-d h...</td>\n",
       "      <td>punch! software</td>\n",
       "      <td>39.99</td>\n",
       "      <td>http://www.google.com/base/feeds/snippets/1872...</td>\n",
       "      <td>0.384615</td>\n",
       "    </tr>\n",
       "    <tr>\n",
       "      <th>104</th>\n",
       "      <td>b00004nhn7</td>\n",
       "      <td>services for netware 5.0</td>\n",
       "      <td>microsoft services for netware a bundle of add...</td>\n",
       "      <td>microsoft</td>\n",
       "      <td>149.00</td>\n",
       "      <td>http://www.google.com/base/feeds/snippets/1778...</td>\n",
       "      <td>0.800000</td>\n",
       "    </tr>\n",
       "  </tbody>\n",
       "</table>\n",
       "</div>"
      ],
      "text/plain": [
       "       idAmazon                                             title  \\\n",
       "65   1931102953  instant immersion american sign language win/mac   \n",
       "107  b00002s6sc                          punch 5 in 1 home design   \n",
       "104  b00004nhn7                          services for netware 5.0   \n",
       "\n",
       "                                           description          manufacturer  \\\n",
       "65   instant immersion asl teaches beginners americ...  topics entertainment   \n",
       "107  5 in 1 home design is a fully integrated 3-d h...       punch! software   \n",
       "104  microsoft services for netware a bundle of add...             microsoft   \n",
       "\n",
       "      price                                       idGoogleBase     Score  \n",
       "65     9.99  http://www.google.com/base/feeds/snippets/5505...  0.375000  \n",
       "107   39.99  http://www.google.com/base/feeds/snippets/1872...  0.384615  \n",
       "104  149.00  http://www.google.com/base/feeds/snippets/1778...  0.800000  "
      ]
     },
     "execution_count": 4,
     "metadata": {},
     "output_type": "execute_result"
    }
   ],
   "source": [
    "# tp = true positive, cnt was to check if all matches were made\n",
    "# Initially I tried sorting on \"idAmazon\" to quickly check for true positives, this failed so had to loop to check every element\n",
    "tp = 0\n",
    "fn = 0\n",
    "cnt = 0\n",
    "indexT = []\n",
    "indexA = []\n",
    "for i in range(0, sorted_truth.shape[0]):\n",
    "    for j in range(0,sorted_amazon.shape[0]):\n",
    "        if(sorted_amazon.loc[j,\"idAmazon\"] == sorted_truth.loc[i,\"idAmazon\"]):\n",
    "            cnt += 1\n",
    "            if(match_list[j] == sorted_truth.loc[i,\"idGoogleBase\"]):\n",
    "                tp += 1\n",
    "                \n",
    "            # elements below the threshold are set to the empty string\n",
    "            if(match_list[j] == \"\"):\n",
    "                fn += 1 \n",
    "\n",
    "print(\"matches count: \", cnt)\n",
    "print(\"number of true positives: \", tp)\n",
    "#fn = score_list.count(threshold)\n",
    "# using n = fp + fn + tp + tn, score_list.count(threshold) = tn + fn (all values set to no match)\n",
    "fp = sorted_amazon.shape[0] - tp - score_list.count(threshold)\n",
    "recall = tp/(tp+fn)\n",
    "#altered the precision formula to \n",
    "precision = tp/(tp+fp)\n",
    "print(recall)\n",
    "print(precision)\n",
    "sorted_amazon['idGoogleBase'] = match_list\n",
    "sorted_amazon['Score'] = score_list\n",
    "sorted_amazon.head(3)\n",
    "\n",
    "# DISCUSSION\n",
    "# Here we chose to use jaccard index on title (amazon) and name (google) to get the pairs for similarity. \n",
    "# The method to get the final score was to loop over all of the elements in name for each title and take the best match.\n",
    "# The best match was determined by the highest jaccard index.\n",
    "# I chose a lower threshold because the elements of name are bloated with extra text relative to title.\n",
    "\n",
    "# The recall of this method is high, this is due to the low threshold which causes us to set most pairs giving more fp and less\n",
    "# fn. Another factor to would be the fact that we are only comparing on one feature, if we were to use more than one feature\n",
    "# we would likely see an increase in precision and recall\n",
    "\n",
    "# The precision is surprisingly high, I thought with only using one feature I'd have a lower precision.This is likely due to \n",
    "# the data that we are working with. joining solely on title/name seems to be very effective in this case.\n",
    "\n",
    "# The performance of this method appears to be good for this case, However I think the low threshold could cause issues.\n",
    "# such as if the data set had lots of similar product names, or products with the same name but different versions.\n",
    "# i.e. games Age of Empires, Age of Empires II, Age of Empires III \n",
    "# If we were to have the set as above the primary way to differentiate between them would be price since their names and \n",
    "# descriptions would essesntially be the same.\n",
    "# Upon considering this I feel the most accurate method would take into account all features this is likely too computationally\n",
    "# time consuming."
   ]
  },
  {
   "cell_type": "code",
   "execution_count": 5,
   "metadata": {},
   "outputs": [
    {
     "name": "stdout",
     "output_type": "stream",
     "text": [
      "number of unique elements in ground truth\n",
      "129\n",
      "130\n"
     ]
    },
    {
     "data": {
      "text/plain": [
       "116"
      ]
     },
     "execution_count": 5,
     "metadata": {},
     "output_type": "execute_result"
    }
   ],
   "source": [
    "# inspecting the data\n",
    "print(\"number of unique elements in ground truth\")\n",
    "print(len(sorted_truth['idAmazon'].unique().tolist()))\n",
    "print(len(sorted_truth['idGoogleBase'].unique().tolist()))\n",
    "len(set(match_list))"
   ]
  },
  {
   "cell_type": "code",
   "execution_count": 6,
   "metadata": {},
   "outputs": [],
   "source": [
    "# Blocking for efficient data linkage\n",
    "# randomise the data\n",
    "amazon = amazon.sample(frac=1)\n",
    "google = google.sample(frac=1)\n",
    "\n",
    "block_size = 100\n",
    "num_blocks = 40\n",
    "m_list = []\n",
    "s_list = []\n",
    "count = 0\n",
    "\n",
    "\n"
   ]
  },
  {
   "cell_type": "code",
   "execution_count": 7,
   "metadata": {},
   "outputs": [
    {
     "name": "stdout",
     "output_type": "stream",
     "text": [
      "YEAST\n",
      "               mcg          gvh          alm          mit          erl  \\\n",
      "count  1352.000000  1449.000000  1370.000000  1352.000000  1445.000000   \n",
      "mean      0.499349     0.499876     0.505848     0.264379     0.506921   \n",
      "std       0.137625     0.123410     0.207991     0.157457     0.092801   \n",
      "min       0.110000     0.130000     0.210000     0.000000     0.500000   \n",
      "50%       0.480000     0.490000     0.510000     0.220000     0.500000   \n",
      "max       1.000000     1.000000     7.501819     3.000728     3.500849   \n",
      "\n",
      "               pox          vac          nuc  \n",
      "count  1484.000000  1392.000000  1407.000000  \n",
      "mean      0.007500     0.503816     0.279816  \n",
      "std       0.075683     0.158475     0.155835  \n",
      "min       0.000000     0.000000     0.000000  \n",
      "50%       0.000000     0.510000     0.220000  \n",
      "max       0.830000     6.001456     4.501092  \n",
      "MEAN YEAST\n",
      "               mcg          gvh          alm          mit          erl  \\\n",
      "count  1484.000000  1484.000000  1484.000000  1484.000000  1484.000000   \n",
      "mean      0.499349     0.499876     0.505848     0.264379     0.506921   \n",
      "std       0.131357     0.121945     0.199837     0.150286     0.091573   \n",
      "min       0.110000     0.130000     0.210000     0.000000     0.500000   \n",
      "50%       0.499349     0.490000     0.510000     0.230000     0.500000   \n",
      "max       1.000000     1.000000     7.501819     3.000728     3.500849   \n",
      "\n",
      "               pox          vac          nuc  \n",
      "count  1484.000000  1484.000000  1484.000000  \n",
      "mean      0.007500     0.503816     0.279816  \n",
      "std       0.075683     0.153481     0.151736  \n",
      "min       0.000000     0.000000     0.000000  \n",
      "50%       0.000000     0.510000     0.220000  \n",
      "max       0.830000     6.001456     4.501092  \n",
      "MEDIAN YEAST\n",
      "               mcg          gvh          alm          mit          erl  \\\n",
      "count  1484.000000  1484.000000  1484.000000  1484.000000  1484.000000   \n",
      "mean      0.497628     0.499643     0.506167     0.260432     0.506739   \n",
      "std       0.131472     0.121954     0.199840     0.150817     0.091580   \n",
      "min       0.110000     0.130000     0.210000     0.000000     0.500000   \n",
      "50%       0.480000     0.490000     0.510000     0.220000     0.500000   \n",
      "max       1.000000     1.000000     7.501819     3.000728     3.500849   \n",
      "\n",
      "               pox          vac          nuc  \n",
      "count  1484.000000  1484.000000  1484.000000  \n",
      "mean      0.007500     0.504199     0.276712  \n",
      "std       0.075683     0.153488     0.152315  \n",
      "min       0.000000     0.000000     0.000000  \n",
      "50%       0.000000     0.510000     0.220000  \n",
      "max       0.830000     6.001456     4.501092  \n"
     ]
    }
   ],
   "source": [
    "# Part 2 Classification - preprocessing\n",
    "yeast = pd.read_csv('all_yeast.csv',encoding = 'ISO-8859-1')\n",
    "yeast1 = yeast.drop([\"Class\"], axis = 1)\n",
    "yeast2 = yeast1.copy()\n",
    "# Should have left out sample as it doesnt give us anything \n",
    "features = ['Sample', 'mcg', 'gvh', 'alm', 'mit', 'erl', 'pox', 'vac', 'nuc']\n",
    "\n",
    "#Impute the values using scikit-learn SimpleImpute Class\n",
    "from sklearn.impute import SimpleImputer\n",
    "imp_mean = SimpleImputer( strategy='mean') \n",
    "imp_median = SimpleImputer( strategy='median')\n",
    "imp_mean.fit(yeast1)\n",
    "imp_mean_yeast_df = pd.DataFrame(imp_mean.transform(yeast1))\n",
    "imp_median.fit(yeast2)\n",
    "imp_median_yeast_df = pd.DataFrame(imp_median.transform(yeast2))\n",
    "imp_mean_yeast_df.columns = features\n",
    "imp_median_yeast_df.columns = features\n",
    "\n",
    "print(\"YEAST\")\n",
    "print(yeast1.iloc[:,1:].describe(percentiles = []))\n",
    "print(\"MEAN YEAST\")\n",
    "print(imp_mean_yeast_df.iloc[:,1:].describe(percentiles = [])) \n",
    "print(\"MEDIAN YEAST\")\n",
    "print(imp_median_yeast_df.iloc[:,1:].describe(percentiles = []))\n",
    "\n",
    "# for all instances using median imputation there is a minor increase in std by comparison with mean imputation.\n",
    "# Both of median and mean imputation give a smaller std than the actual dataset.\n",
    "# Using the median also leads to a small change in the mean. The difference between the standard deviation of actual dataset\n",
    "# and the median imputed dataset is closer than that of the mean imputation.\n",
    "# The Difference between mean and median imputation is only significant at 4 decimal places, because of this its hard to say\n",
    "# which is better. \n",
    "\n",
    "# I think Median imputing is better because it gives standard deviation closer to the dataset. I think that maintaining varience\n",
    "# is important for analysing data."
   ]
  },
  {
   "cell_type": "code",
   "execution_count": 8,
   "metadata": {},
   "outputs": [
    {
     "name": "stdout",
     "output_type": "stream",
     "text": [
      "Standardised\n",
      "                 0            1            2            3            4  \\\n",
      "count  1484.000000  1484.000000  1484.000000  1484.000000  1484.000000   \n",
      "mean     -0.000000     0.000000    -0.000000     0.000000     0.000000   \n",
      "std       1.000337     1.000337     1.000337     1.000337     1.000337   \n",
      "min      -1.730884    -2.949354    -3.032012    -1.482523    -1.727390   \n",
      "50%       0.000000    -0.134127    -0.079096     0.019187    -0.268175   \n",
      "max       1.730884     3.822409     4.104201    35.018124    18.175817   \n",
      "\n",
      "                 5            6            7            8  \n",
      "count  1484.000000  1484.000000  1484.000000  1484.000000  \n",
      "mean      0.000000     0.000000    -0.000000    -0.000000  \n",
      "std       1.000337     1.000337     1.000337     1.000337  \n",
      "min      -0.073612    -0.099131    -3.286049    -1.817324  \n",
      "50%      -0.073612    -0.099131     0.037807    -0.372461  \n",
      "max      32.705040    10.871410    35.827622    27.743849  \n",
      "Centering\n",
      "                 0            1            2            3            4  \\\n",
      "count  1484.000000  1484.000000  1484.000000  1484.000000  1484.000000   \n",
      "mean      0.000000     0.000000    -0.000000     0.000000    -0.000000   \n",
      "std     428.538213     0.131472     0.121954     0.199840     0.150817   \n",
      "min    -741.500000    -0.387628    -0.369643    -0.296167    -0.260432   \n",
      "50%       0.000000    -0.017628    -0.009643     0.003833    -0.040432   \n",
      "max     741.500000     0.502372     0.500357     6.995652     2.740296   \n",
      "\n",
      "                 5            6            7            8  \n",
      "count  1484.000000  1484.000000  1484.000000  1484.000000  \n",
      "mean      0.000000     0.000000    -0.000000    -0.000000  \n",
      "std       0.091580     0.075683     0.153488     0.152315  \n",
      "min      -0.006739    -0.007500    -0.504199    -0.276712  \n",
      "50%      -0.006739    -0.007500     0.005801    -0.056712  \n",
      "max       2.994110     0.822500     5.497256     4.224379  \n"
     ]
    }
   ],
   "source": [
    "from sklearn import preprocessing\n",
    "# Standardisation\n",
    "scaler = preprocessing.StandardScaler()\n",
    "scaler.fit(imp_median_yeast_df)\n",
    "print(\"Standardised\")\n",
    "print(pd.DataFrame(scaler.transform(imp_median_yeast_df)).describe(percentiles = []).round(6))\n",
    "# Mean centering\n",
    "ctr_scaler = preprocessing.StandardScaler(with_std = False).fit(imp_median_yeast_df)\n",
    "print(\"Centering\")\n",
    "print(pd.DataFrame(ctr_scaler.transform(imp_median_yeast_df)).describe(percentiles = []).round(6))\n",
    "\n",
    "# starndardisation seems to turn the data into a Z-score, centralisation changes the data so that the mean becomes zero.\n",
    "# requires rounding to be easier to read, without it theres 6 decimal places followed by e - 16, this is due to floating\n",
    "# point errors"
   ]
  },
  {
   "cell_type": "code",
   "execution_count": 9,
   "metadata": {},
   "outputs": [
    {
     "name": "stdout",
     "output_type": "stream",
     "text": [
      "Accuracy Score K-NN 5:  0.7663366336633664\n",
      "Accuracy Score K-NN 10:  0.7326732673267327\n",
      "Accuracy Score Decision Tree:  0.7465346534653465\n",
      "Highest Accuracy Score K 0.7881188118811882\n",
      "best accuracy score varying depth of dt:  0.7544554455445545\n"
     ]
    },
    {
     "data": {
      "image/png": "[encoded data removed]",
      "text/plain": [
       "<Figure size 432x288 with 1 Axes>"
      ]
     },
     "metadata": {
      "needs_background": "light"
     },
     "output_type": "display_data"
    }
   ],
   "source": [
    "# Comparing Classifications\n",
    "from sklearn import neighbors\n",
    "from sklearn.model_selection import train_test_split\n",
    "from sklearn.metrics import accuracy_score\n",
    "from sklearn.tree import DecisionTreeClassifier\n",
    "\n",
    "data = ctr_scaler.transform(imp_median_yeast_df)\n",
    "classlabel = yeast['Class']\n",
    "\n",
    "##randomly select 66% of the instances to be training and the rest to be testing\n",
    "X_train, X_test, y_train, y_test = train_test_split(data,classlabel, train_size=0.66, test_size=0.34, random_state=42)\n",
    "\n",
    "knn5 = neighbors.KNeighborsClassifier(n_neighbors=5)\n",
    "knn5.fit(X_train, y_train)\n",
    "knn10 = neighbors.KNeighborsClassifier(n_neighbors=10)\n",
    "knn10.fit(X_train, y_train)\n",
    "y_pred=knn5.predict(X_test)\n",
    "print(\"Accuracy Score K-NN 5: \",accuracy_score(y_test, y_pred))\n",
    "y_pred=knn10.predict(X_test)\n",
    "print(\"Accuracy Score K-NN 10: \",accuracy_score(y_test, y_pred))\n",
    "\n",
    "\n",
    "dt = DecisionTreeClassifier(criterion=\"entropy\",random_state=1, max_depth=7)\n",
    "dt.fit(X_train, y_train)\n",
    "y_pred=dt.predict(X_test)\n",
    "print(\"Accuracy Score Decision Tree: \", accuracy_score(y_test, y_pred))\n",
    "\n",
    "accu_list_knn = []\n",
    "accu_list_dt = []\n",
    "for k in range(1,100,2):\n",
    "    knn = neighbors.KNeighborsClassifier(n_neighbors=k)\n",
    "    knn.fit(X_train, y_train)\n",
    "    y_pred=knn.predict(X_test)\n",
    "    accu_list_knn.append(accuracy_score(y_test, y_pred))\n",
    "    dt = DecisionTreeClassifier(criterion=\"entropy\",random_state=1, max_depth=k)\n",
    "    dt.fit(X_train, y_train)\n",
    "    y_pred=dt.predict(X_test)\n",
    "    accu_list_dt.append(accuracy_score(y_test, y_pred))\n",
    "\n",
    "    \n",
    "plt.plot(range(1,100,2), accu_list_knn)\n",
    "plt.xlabel('k')\n",
    "plt.ylabel('Accuracy Score')\n",
    "plt.title('Accuracy Score vs K')\n",
    "print('Highest Accuracy Score K', max(accu_list_knn))\n",
    "print(\"best accuracy score varying depth of dt: \", max(accu_list_dt))\n",
    "\n",
    "# KNN is most accurate with lower K values, and stabalises around 0.72 accuracy score. This is probably because\n",
    "# of there only being two classifications for Yeast.\n",
    "\n",
    "# K-NN is the better algorithm based on accuracy score, however decision tree accuracy can change depending on\n",
    "# the split of training to test data. Perhaps with more training data it would out perform KNN."
   ]
  },
  {
   "cell_type": "code",
   "execution_count": 10,
   "metadata": {},
   "outputs": [
    {
     "name": "stdout",
     "output_type": "stream",
     "text": [
      "NaN Values Count:\n",
      " Sample      0\n",
      "mcg       132\n",
      "gvh        35\n",
      "alm       114\n",
      "mit       132\n",
      "erl        39\n",
      "pox         0\n",
      "vac        92\n",
      "nuc        77\n",
      "Class       0\n",
      "dtype: int64\n",
      "Shape without Nan (954, 10)\n",
      "\n",
      "Mutual information\n",
      "mcg   0.06880733478076069\n",
      "gvh   0.07550296821930563\n",
      "alm   0.08397129689481178\n",
      "mit   0.050928806398683975\n",
      "erl   1.6394847592679507e-05\n",
      "pox   0.0038546101322764342\n",
      "vac   0.024863157775067986\n",
      "nuc   0.04688543083152033\n"
     ]
    },
    {
     "data": {
      "text/plain": [
       "[(0.0038546101322764178, 'pox', 'nuc'),\n",
       " (0.003854610132276422, 'pox', 'gvh'),\n",
       " (0.003854610132276424, 'pox', 'mcg'),\n",
       " (0.003854610132276424, 'pox', 'mit'),\n",
       " (0.0038546101322764264, 'pox', 'alm'),\n",
       " (0.0038546101322764273, 'vac', 'pox'),\n",
       " (0.0038546101322764342, 'pox', 'erl'),\n",
       " (0.028358695835864138, 'vac', 'erl'),\n",
       " (0.04519380430120963, 'nuc', 'erl'),\n",
       " (0.05154566076226348, 'mit', 'erl'),\n",
       " (0.06872925846299496, 'mcg', 'erl'),\n",
       " (0.07703754467634782, 'gvh', 'erl'),\n",
       " (0.08434195121124201, 'erl', 'alm'),\n",
       " (0.19571992892962897, 'vac', 'nuc'),\n",
       " (0.2185264531173681, 'nuc', 'mit'),\n",
       " (0.2346805086889548, 'nuc', 'alm'),\n",
       " (0.2417407400922844, 'vac', 'alm'),\n",
       " (0.2534127332471776, 'nuc', 'mcg'),\n",
       " (0.2708199559191813, 'nuc', 'gvh'),\n",
       " (0.2841415513307587, 'vac', 'gvh'),\n",
       " (0.2987957857798893, 'vac', 'mit'),\n",
       " (0.3184390361673111, 'vac', 'mcg'),\n",
       " (0.3185277376376643, 'gvh', 'alm'),\n",
       " (0.32571688480390815, 'mcg', 'alm'),\n",
       " (0.36790970546030777, 'mit', 'alm'),\n",
       " (0.37694643116659954, 'mcg', 'gvh'),\n",
       " (0.39037687496503665, 'mit', 'mcg'),\n",
       " (0.41348858996656, 'mit', 'gvh')]"
      ]
     },
     "execution_count": 10,
     "metadata": {},
     "output_type": "execute_result"
    }
   ],
   "source": [
    "# Feature Engineering - Interaction\n",
    "from sklearn.metrics import mutual_info_score\n",
    "# remove Nan values so we can run mutual information without effects of imputation\n",
    "print(\"NaN Values Count:\\n\",yeast.isna().sum())\n",
    "yeast_Nan = yeast.dropna()\n",
    "print(\"Shape without Nan\",yeast_Nan.shape)\n",
    "features = ['mcg', 'gvh', 'alm', 'mit', 'erl', 'pox', 'vac', 'nuc']\n",
    "interaction_df = pd.DataFrame()\n",
    "interactions = []\n",
    "# Test mutual information for every interaction\n",
    "print(\"\\nMutual information\")\n",
    "for feature_A in features:\n",
    "    print(feature_A + \"  \", mutual_info_score(yeast_Nan[feature_A],yeast_Nan['Class']))\n",
    "    for feature_B in features:\n",
    "          if feature_A > feature_B:\n",
    "                interaction_df[feature_A + feature_B] = yeast_Nan[feature_A] * yeast_Nan[feature_B]\n",
    "                score = mutual_info_score(interaction_df[feature_A + feature_B],yeast_Nan['Class'])\n",
    "                interactions.append((score, feature_A, feature_B))\n",
    "                \n",
    "interactions.sort()\n",
    "interactions\n",
    "\n",
    "# I chose to not use imputed data when selecting features because i wanted to accurately choose the generated features.\n",
    "# The problem with this is that some of the data the features were selected on are in the test set of data. I think it's fine\n",
    "# in this case since we lose a third of the data to removing Nan values.\n",
    "# The other thing I considered when moving nans was that there were more missing values in mcg, alm and mit than any other\n",
    "# feature. \n",
    "\n",
    "# lost about a third of our data by droppping Nan values\n",
    "# we see mit, gvh, alm and mcg interaction terms have the highest mutual information. Individually these terms have much\n",
    "# lower mutual information scores. erl is the only individual feature that has high mutual information."
   ]
  },
  {
   "cell_type": "code",
   "execution_count": 18,
   "metadata": {},
   "outputs": [
    {
     "name": "stdout",
     "output_type": "stream",
     "text": [
      "Accuracy Score K-NN 5:  0.7267326732673267\n",
      "highest score: 0.7702970297029703\n"
     ]
    },
    {
     "data": {
      "text/plain": [
       "Text(0.5, 1.0, 'Accuracy Score vs K')"
      ]
     },
     "execution_count": 18,
     "metadata": {},
     "output_type": "execute_result"
    },
    {
     "data": {
      "image/png": "[encoded data removed]",
      "text/plain": [
       "<Figure size 432x288 with 1 Axes>"
      ]
     },
     "metadata": {
      "needs_background": "light"
     },
     "output_type": "display_data"
    }
   ],
   "source": [
    "# using mutual information apply knn, set threshold for interaction MI to be 0.3\n",
    "# Had to play around and see which individual features to keep to see improvement\n",
    "#interaction_data = yeast1.copy()\n",
    "interaction_data = pd.DataFrame()\n",
    "\n",
    "# do this manually since when we do all permutations of interaction it doesnt finish\n",
    "interaction_data['nuc'] = yeast['nuc']\n",
    "interaction_data['erl'] = yeast['erl']\n",
    "interaction_data['mcg'] = yeast['mcg']\n",
    "interaction_data['alm'] = yeast['alm']\n",
    "interaction_data['gvh'] = yeast['gvh']\n",
    "interaction_data['mit * gvh'] = yeast['mit']*yeast['gvh']\n",
    "interaction_data['mit * mcg'] = yeast['mit']*yeast['mcg']\n",
    "interaction_data['mcg * gvh'] = yeast['mcg']*yeast['gvh']\n",
    "interaction_data['mit * alm'] = yeast['mit']*yeast['alm']\n",
    "interaction_data['nuc * alm'] = yeast['nuc']*yeast['alm']\n",
    "interaction_data['mcg * alm'] = yeast['mcg']*yeast['alm']\n",
    "interaction_data['gvh * alm'] = yeast['gvh']*yeast['alm']\n",
    "interaction_data['mcg * vac'] = yeast['mcg']*yeast['vac']\n",
    "\n",
    "\n",
    "\n",
    "# redo imputation & centering\n",
    "imp_median.fit(interaction_data)\n",
    "imp_median_interaction_df = pd.DataFrame(imp_median.transform(interaction_data))\n",
    "ctr_scaler = preprocessing.StandardScaler(with_std = False).fit(imp_median_interaction_df)\n",
    "data = ctr_scaler.transform(imp_median_interaction_df)\n",
    "\n",
    "# Set same conditions as before\n",
    "# randomly select 66% of the instances to be training and the rest to be testing\n",
    "X_train, X_test, y_train, y_test = train_test_split(data,classlabel, train_size=0.66, test_size=0.34, random_state=42)\n",
    "\n",
    "knn5 = neighbors.KNeighborsClassifier(n_neighbors=5)\n",
    "knn5.fit(X_train, y_train)\n",
    "y_pred=knn5.predict(X_test)\n",
    "print(\"Accuracy Score K-NN 5: \",accuracy_score(y_test, y_pred))\n",
    "\n",
    "accu_list_knn = []\n",
    "for k in range(1,100,2):\n",
    "    knn = neighbors.KNeighborsClassifier(n_neighbors=k)\n",
    "    knn.fit(X_train, y_train)\n",
    "    y_pred=knn.predict(X_test)\n",
    "    accu_list_knn.append(accuracy_score(y_test, y_pred))\n",
    "\n",
    "\n",
    "print(\"highest score:\",max(accu_list_knn))\n",
    "plt.plot(range(1,100,2), accu_list_knn)\n",
    "plt.xlabel('k')\n",
    "plt.ylabel('Accuracy Score')\n",
    "plt.title('Accuracy Score vs K')\n",
    "\n",
    "# When comparing graphs from earlier we see this tends to sit at higher accuracy once k > 4\n",
    "# For k = 5 the accuracy score doesnt beat the standard set without interaction. \n",
    "# Choosing individual components we choose erl as it has the highest mutual information. alm, gvh and mcg were the next highest\n",
    "# for which i used trial and error to see if there was an improvement in accuracy. The last interaction and individual\n",
    "# was chosen by looping over every interaction and testing to see if when added to the model there was any improvement.\n",
    "# nuc * alm was the best here. Then I checked if nuc indiviually had any effect, which it did so i added it to the model.\n",
    "# I was going to continue adding more interaction features but I think i've already fitted the model (possibly overfitted).\n",
    "\n",
    "# Another issue is that feature selection was done over the whole dataset with non Nan values.\n",
    "# This could have added some bias. There was approx 2/3 of the dataset was complete so some portion of the test data would\n",
    "# not have been seen either. Perhaps this was what pushed the max \n",
    "# "
   ]
  },
  {
   "cell_type": "code",
   "execution_count": 12,
   "metadata": {},
   "outputs": [
    {
     "data": {
      "image/png": "[encoded data removed]",
      "text/plain": [
       "<Figure size 576x576 with 1 Axes>"
      ]
     },
     "metadata": {
      "needs_background": "light"
     },
     "output_type": "display_data"
    },
    {
     "name": "stdout",
     "output_type": "stream",
     "text": [
      "Accuracy Score kmeans cluster: 0.4871287128712871\n"
     ]
    },
    {
     "data": {
      "image/png": "[encoded data removed]",
      "text/plain": [
       "<Figure size 432x288 with 1 Axes>"
      ]
     },
     "metadata": {
      "needs_background": "light"
     },
     "output_type": "display_data"
    }
   ],
   "source": [
    "# Feature generation - Class Labels\n",
    "from sklearn.cluster import KMeans\n",
    "clust_data = yeast[features]\n",
    "# redo imputation & centering\n",
    "imp_median.fit(clust_data)\n",
    "imp_median_clust_df = pd.DataFrame(imp_median.transform(clust_data))\n",
    "ctr_scaler = preprocessing.StandardScaler(with_std = False).fit(imp_median_clust_df)\n",
    "data = ctr_scaler.transform(imp_median_clust_df)\n",
    "\n",
    "# Set same conditions as before\n",
    "# randomly select 66% of the instances to be training and the rest to be testing\n",
    "X_train, X_test, y_train, y_test = train_test_split(data,classlabel, train_size=0.66, test_size=0.34, random_state=42)\n",
    "\n",
    "# use the inertia attribute to identify the sum of squared distances of samples to the nearest cluster centre.\n",
    "Sum_of_squared_distances = []\n",
    "K = range(1,15)\n",
    "for k in K:\n",
    "    km = KMeans(n_clusters=k)\n",
    "    km = km.fit(X_train)\n",
    "    Sum_of_squared_distances.append(km.inertia_)\n",
    "\n",
    "# Plot\n",
    "fig = plt.figure(1,figsize = (8,8))\n",
    "plt.plot(K, Sum_of_squared_distances, 'bx-')\n",
    "plt.xlabel('k')\n",
    "plt.ylabel('Sum_of_squared_distances')\n",
    "plt.title('Elbow Method For Optimal k')\n",
    "plt.show()\n",
    "\n",
    "# elbow at k = 5 kind of (havent seen an inflexion like that)\n",
    "model = KMeans(n_clusters = 5, random_state = 1)\n",
    "model.fit(X_train)\n",
    "clust_labels = model.predict(X_test) # y_pred\n",
    "kmeans = pd.DataFrame(clust_labels)\n",
    "count = kmeans.groupby([0]).size()\n",
    "fig = plt.figure(2)\n",
    "count.plot.bar()\n",
    "plt.xlabel('Clusters')\n",
    "plt.ylabel('Number of points')\n",
    "plt.title(\"Points in cluster\")\n",
    "\n",
    "# Couldn't figure out how to get it to allocate based on closest value\n",
    "temp = np.where(clust_labels == 0, \"CYT\", clust_labels)\n",
    "y_pred = np.where(temp == '1', 'non-CYT', temp)\n",
    "print(\"Accuracy Score kmeans cluster:\", accuracy_score(y_test, y_pred))\n",
    "\n"
   ]
  },
  {
   "cell_type": "code",
   "execution_count": 13,
   "metadata": {},
   "outputs": [],
   "source": [
    "# FEATURE ENGINNERING DISCUSSION\n",
    "\n",
    "# In choosing parameters we keep the same parameters as the previous part to test whether or not feature enginnering has made\n",
    "# a difference.\n",
    "# Choosing the threshold for mutual information was difficult because the majority of the non interaction terms did not have\n",
    "# a high signifigance. So used method of choosing the top 5 mutual information scorers initially. From here I did \n",
    "# step-wise model selection. The model chosen in the end is as far as i wanted to go with the selection as more parameters\n",
    "# could lead to overfitting.\n",
    "# Choosing our k for kmeans I used the elbow method for optimal k.\n",
    "\n",
    "# I can't definitively say whether or not interaction terms have added an accuracy boost based on evidence from part 1.\n",
    "# When comparing the two plots we see that the interaction plot generally has a higher accuracy for higher values of k, but \n",
    "# is less consistent. I think interaction could give an accuracy boost if the interaction terms were significant to the model.\n",
    "# The only other difference is the features were trained on non imputed values, which could possibly lower the accuracy of the\n",
    "# model. Countering this is the fact its likely that features were chosen on parts of both test and training data.\n",
    "\n",
    "# Assuming that my clustering label selection is correct, there is no evidence of an accuracy boost. One thing that clustering \n",
    "# labels has over the interaction model selection is that it seems to be computationally cheaper. \n",
    "\n",
    "# neither interaction or cluster labelling show strong evidence of boosting accuracy."
   ]
  },
  {
   "cell_type": "code",
   "execution_count": 22,
   "metadata": {},
   "outputs": [
    {
     "name": "stdout",
     "output_type": "stream",
     "text": [
      "[[ 42 115]\n",
      " [ 22 326]]\n",
      "accuracy score using formula: 0.7287128712871287\n",
      "accuracy score using metrics: 0.7287128712871287\n",
      "0.2712871287128713\n",
      "0.2712871287128713\n"
     ]
    }
   ],
   "source": [
    "import sklearn.metrics as metrics\n",
    "confusion = metrics.confusion_matrix(y_test, y_pred)\n",
    "print(confusion)\n",
    "TP = confusion[1, 1]\n",
    "TN = confusion[0, 0]\n",
    "FP = confusion[0, 1]\n",
    "FN = confusion[1, 0]\n",
    "# use float to perform true division, not integer division\n",
    "print(\"accuracy score using formula:\",(TP + TN) / float(TP + TN + FP + FN))\n",
    "print(\"accuracy score using metrics:\",metrics.accuracy_score(y_test, y_pred))\n",
    "\n",
    "classification_error = (FP + FN) / float(TP + TN + FP + FN)\n",
    "print(\"Classification error:\",classification_error)\n",
    "#print(1 - metrics.accuracy_score(y_test, y_pred))\n",
    "\n",
    "sensitivity = TP / float(FN + TP)\n",
    "print(\"Sensitivity:\",sensitivity)\n",
    "\n",
    "false_positive_rate = FP / float(TN + FP)\n",
    "print(\"False Positive Rate:\", false_positive_rate)\n",
    "\n",
    "precision = TP / float(TP + FP)\n",
    "\n",
    "print(\"Precision:\",precision)"
   ]
  }
 ],
 "metadata": {
  "kernelspec": {
   "display_name": "Python 3",
   "language": "python",
   "name": "python3"
  },
  "language_info": {
   "codemirror_mode": {
    "name": "ipython",
    "version": 3
   },
   "file_extension": ".py",
   "mimetype": "text/x-python",
   "name": "python",
   "nbconvert_exporter": "python",
   "pygments_lexer": "ipython3",
   "version": "3.7.3"
  }
 },
 "nbformat": 4,
 "nbformat_minor": 2
}
